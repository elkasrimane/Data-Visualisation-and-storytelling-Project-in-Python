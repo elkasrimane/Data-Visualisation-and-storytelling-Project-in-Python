{
  "nbformat": 4,
  "nbformat_minor": 0,
  "metadata": {
    "colab": {
      "name": " Data Viz and Storytelling.ipynb",
      "provenance": [],
      "collapsed_sections": [
        "EM5DeQST7VK7",
        "EZMixvSS9c9a"
      ]
    },
    "kernelspec": {
      "name": "python3",
      "display_name": "Python 3"
    },
    "language_info": {
      "name": "python"
    }
  },
  "cells": [
    {
      "cell_type": "markdown",
      "metadata": {
        "id": "W83QPTOvD8-1"
      },
      "source": [
        "# Project - Data Viz and Storytelling\n",
        "\n",
        "--- \n",
        "## The Senario:\n",
        "Suppose you are an analytics consultant and your client is the Senate of Berlin, looking to draft policy suggestions to help make rent more accessible in the city. \n",
        "\n",
        "While they have not (yet) asked you for a recommendation, they need to understand the market's current state.\n",
        "\n",
        "For that, you are asked:\n",
        "\n",
        "1. Is there a shortage of *affordable* appartments in Berlin as a whole, or is the issue concentrated in select neighbourhoods? (hint: you will need to define \"affordable\" based on some criteria)\n",
        "\n",
        "1. A few companies are exploring *Apartment renovation* as a viable business model — what impact could this practice have in the availability of *affordable* apartments?\n",
        "\n",
        ">Build a story around the dataset.\n",
        "\n",
        "\n",
        "--- \n",
        "## The dataset:\n",
        "\n",
        "This is a list of rental appartments in Berlin. One row is for one appartment. The dataset contains 6 columns. \n",
        "- Region: is the Berlin district, where the flat is located\n",
        "- Condition: is the condition of the flat\n",
        "- Rooms: The number of rooms the flat has\n",
        "- Rent: Monthly rent for the flat\n",
        "- Year_Construction: The year in which the house was build\n",
        "- Space: How many square meters does the flat has?\n",
        "\n",
        "\n",
        "\n",
        "---"
      ]
    },
    {
      "cell_type": "code",
      "metadata": {
        "id": "uPrb3Qy-BSiF",
        "colab": {
          "base_uri": "https://localhost:8080/",
          "height": 215
        },
        "outputId": "5b73d6f9-cc99-4ef7-fbfa-601a9210cb06"
      },
      "source": [
        "# Imports\n",
        "import pandas as pd\n",
        "import numpy as np\n",
        "import matplotlib.pyplot as plt\n",
        "import seaborn as sns\n",
        "\n",
        "# Get the dataset\n",
        "df = pd.read_csv('https://raw.githubusercontent.com/juliandnl/redi_ss20/master/berlin_rental.csv')\n",
        "df.head()"
      ],
      "execution_count": null,
      "outputs": [
        {
          "output_type": "execute_result",
          "data": {
            "text/html": [
              "\n",
              "  <div id=\"df-944a8dba-6735-4415-8cf9-af70d50b1779\">\n",
              "    <div class=\"colab-df-container\">\n",
              "      <div>\n",
              "<style scoped>\n",
              "    .dataframe tbody tr th:only-of-type {\n",
              "        vertical-align: middle;\n",
              "    }\n",
              "\n",
              "    .dataframe tbody tr th {\n",
              "        vertical-align: top;\n",
              "    }\n",
              "\n",
              "    .dataframe thead th {\n",
              "        text-align: right;\n",
              "    }\n",
              "</style>\n",
              "<table border=\"1\" class=\"dataframe\">\n",
              "  <thead>\n",
              "    <tr style=\"text-align: right;\">\n",
              "      <th></th>\n",
              "      <th>Region</th>\n",
              "      <th>Condition</th>\n",
              "      <th>Rooms</th>\n",
              "      <th>Rent</th>\n",
              "      <th>Year_Construction</th>\n",
              "      <th>Space</th>\n",
              "    </tr>\n",
              "  </thead>\n",
              "  <tbody>\n",
              "    <tr>\n",
              "      <th>0</th>\n",
              "      <td>Mitte</td>\n",
              "      <td>first_time_use</td>\n",
              "      <td>4.0</td>\n",
              "      <td>2659.00</td>\n",
              "      <td>2019</td>\n",
              "      <td>117.20</td>\n",
              "    </tr>\n",
              "    <tr>\n",
              "      <th>1</th>\n",
              "      <td>Kreuzberg</td>\n",
              "      <td>first_time_use</td>\n",
              "      <td>1.0</td>\n",
              "      <td>1200.00</td>\n",
              "      <td>2020</td>\n",
              "      <td>29.33</td>\n",
              "    </tr>\n",
              "    <tr>\n",
              "      <th>2</th>\n",
              "      <td>Köpenick</td>\n",
              "      <td>well_kept</td>\n",
              "      <td>2.0</td>\n",
              "      <td>979.00</td>\n",
              "      <td>1997</td>\n",
              "      <td>83.61</td>\n",
              "    </tr>\n",
              "    <tr>\n",
              "      <th>3</th>\n",
              "      <td>Wilmersdorf</td>\n",
              "      <td>well_kept</td>\n",
              "      <td>4.0</td>\n",
              "      <td>1830.22</td>\n",
              "      <td>1900</td>\n",
              "      <td>171.18</td>\n",
              "    </tr>\n",
              "    <tr>\n",
              "      <th>4</th>\n",
              "      <td>Kreuzberg</td>\n",
              "      <td>first_time_use</td>\n",
              "      <td>2.0</td>\n",
              "      <td>2272.00</td>\n",
              "      <td>2020</td>\n",
              "      <td>88.27</td>\n",
              "    </tr>\n",
              "  </tbody>\n",
              "</table>\n",
              "</div>\n",
              "      <button class=\"colab-df-convert\" onclick=\"convertToInteractive('df-944a8dba-6735-4415-8cf9-af70d50b1779')\"\n",
              "              title=\"Convert this dataframe to an interactive table.\"\n",
              "              style=\"display:none;\">\n",
              "        \n",
              "  <svg xmlns=\"http://www.w3.org/2000/svg\" height=\"24px\"viewBox=\"0 0 24 24\"\n",
              "       width=\"24px\">\n",
              "    <path d=\"M0 0h24v24H0V0z\" fill=\"none\"/>\n",
              "    <path d=\"M18.56 5.44l.94 2.06.94-2.06 2.06-.94-2.06-.94-.94-2.06-.94 2.06-2.06.94zm-11 1L8.5 8.5l.94-2.06 2.06-.94-2.06-.94L8.5 2.5l-.94 2.06-2.06.94zm10 10l.94 2.06.94-2.06 2.06-.94-2.06-.94-.94-2.06-.94 2.06-2.06.94z\"/><path d=\"M17.41 7.96l-1.37-1.37c-.4-.4-.92-.59-1.43-.59-.52 0-1.04.2-1.43.59L10.3 9.45l-7.72 7.72c-.78.78-.78 2.05 0 2.83L4 21.41c.39.39.9.59 1.41.59.51 0 1.02-.2 1.41-.59l7.78-7.78 2.81-2.81c.8-.78.8-2.07 0-2.86zM5.41 20L4 18.59l7.72-7.72 1.47 1.35L5.41 20z\"/>\n",
              "  </svg>\n",
              "      </button>\n",
              "      \n",
              "  <style>\n",
              "    .colab-df-container {\n",
              "      display:flex;\n",
              "      flex-wrap:wrap;\n",
              "      gap: 12px;\n",
              "    }\n",
              "\n",
              "    .colab-df-convert {\n",
              "      background-color: #E8F0FE;\n",
              "      border: none;\n",
              "      border-radius: 50%;\n",
              "      cursor: pointer;\n",
              "      display: none;\n",
              "      fill: #1967D2;\n",
              "      height: 32px;\n",
              "      padding: 0 0 0 0;\n",
              "      width: 32px;\n",
              "    }\n",
              "\n",
              "    .colab-df-convert:hover {\n",
              "      background-color: #E2EBFA;\n",
              "      box-shadow: 0px 1px 2px rgba(60, 64, 67, 0.3), 0px 1px 3px 1px rgba(60, 64, 67, 0.15);\n",
              "      fill: #174EA6;\n",
              "    }\n",
              "\n",
              "    [theme=dark] .colab-df-convert {\n",
              "      background-color: #3B4455;\n",
              "      fill: #D2E3FC;\n",
              "    }\n",
              "\n",
              "    [theme=dark] .colab-df-convert:hover {\n",
              "      background-color: #434B5C;\n",
              "      box-shadow: 0px 1px 3px 1px rgba(0, 0, 0, 0.15);\n",
              "      filter: drop-shadow(0px 1px 2px rgba(0, 0, 0, 0.3));\n",
              "      fill: #FFFFFF;\n",
              "    }\n",
              "  </style>\n",
              "\n",
              "      <script>\n",
              "        const buttonEl =\n",
              "          document.querySelector('#df-944a8dba-6735-4415-8cf9-af70d50b1779 button.colab-df-convert');\n",
              "        buttonEl.style.display =\n",
              "          google.colab.kernel.accessAllowed ? 'block' : 'none';\n",
              "\n",
              "        async function convertToInteractive(key) {\n",
              "          const element = document.querySelector('#df-944a8dba-6735-4415-8cf9-af70d50b1779');\n",
              "          const dataTable =\n",
              "            await google.colab.kernel.invokeFunction('convertToInteractive',\n",
              "                                                     [key], {});\n",
              "          if (!dataTable) return;\n",
              "\n",
              "          const docLinkHtml = 'Like what you see? Visit the ' +\n",
              "            '<a target=\"_blank\" href=https://colab.research.google.com/notebooks/data_table.ipynb>data table notebook</a>'\n",
              "            + ' to learn more about interactive tables.';\n",
              "          element.innerHTML = '';\n",
              "          dataTable['output_type'] = 'display_data';\n",
              "          await google.colab.output.renderOutput(dataTable, element);\n",
              "          const docLink = document.createElement('div');\n",
              "          docLink.innerHTML = docLinkHtml;\n",
              "          element.appendChild(docLink);\n",
              "        }\n",
              "      </script>\n",
              "    </div>\n",
              "  </div>\n",
              "  "
            ],
            "text/plain": [
              "        Region       Condition  Rooms     Rent  Year_Construction   Space\n",
              "0        Mitte  first_time_use    4.0  2659.00               2019  117.20\n",
              "1    Kreuzberg  first_time_use    1.0  1200.00               2020   29.33\n",
              "2     Köpenick       well_kept    2.0   979.00               1997   83.61\n",
              "3  Wilmersdorf       well_kept    4.0  1830.22               1900  171.18\n",
              "4    Kreuzberg  first_time_use    2.0  2272.00               2020   88.27"
            ]
          },
          "metadata": {},
          "execution_count": 1
        }
      ]
    },
    {
      "cell_type": "markdown",
      "metadata": {
        "id": "EM5DeQST7VK7"
      },
      "source": [
        "## Define all the terms in the question that seem ambiguous\n",
        "\n",
        "Question 1:\n",
        "- **shortage**: what we have compared to what we need\n",
        "- **affordable**: what most berliners can pay per month\n",
        "\n",
        "Question 2:\n",
        "- **have an impact**: make a significant difference on the current situation"
      ]
    },
    {
      "cell_type": "markdown",
      "metadata": {
        "id": "EZMixvSS9c9a"
      },
      "source": [
        "## Break down the question into smaller questions\n",
        "\n",
        "Question 1:\n",
        "\n",
        "- what rent can the berliners afford?\n",
        "- how many affordable apartments do we need?\n",
        "- how many affordable appartments do we have? \n",
        "- what % of the apartments are affordable in each region?\n",
        "\n",
        "Question 2:\n",
        "\n",
        "- how many apartments are not rented because they require rennovation?\n",
        "- how many extra rooms would be put on the market if these apartments were rennovated?"
      ]
    },
    {
      "cell_type": "markdown",
      "metadata": {
        "id": "7SnR0dL39dJv"
      },
      "source": [
        "## Build a few plots or other types of analyses to answer the questions\n"
      ]
    },
    {
      "cell_type": "code",
      "metadata": {
        "colab": {
          "base_uri": "https://localhost:8080/",
          "height": 362
        },
        "id": "MYjMw1N5Fg28",
        "outputId": "f419d8b0-0407-4448-c913-b60cb02f040e"
      },
      "source": [
        "df['rent_per_room']=df.Rent/df.Rooms\n",
        "\n",
        "ax = df.groupby(\"Region\")['rent_per_room'].mean().plot.bar()\n",
        "\n",
        "# format y axis ticks labels\n",
        "y_ticks = ax.get_yticks()\n",
        "formatted_y_ticks = ['{:,.0f}€'.format(x) for x in y_ticks]\n",
        "ax.set_yticklabels(formatted_y_ticks)\n",
        "\n",
        "# hide x axis label\n",
        "plt.xlabel(\"\")\n",
        "\n",
        "# set title\n",
        "plt.title(\"Average Rent per room\\nper neighborhood\")\n",
        "\n",
        "# hide frame\n",
        "for position in ax.spines.keys():\n",
        "  ax.spines[position].set_visible(False)\n",
        "\n",
        "plt.show()"
      ],
      "execution_count": null,
      "outputs": [
        {
          "output_type": "display_data",
          "data": {
            "image/png": "[encoded data removed]",
            "text/plain": [
              "<Figure size 432x288 with 1 Axes>"
            ]
          },
          "metadata": {
            "needs_background": "light"
          }
        }
      ]
    },
    {
      "cell_type": "markdown",
      "metadata": {
        "id": "zVg-0ttGKVn1"
      },
      "source": [
        "#What's affordable?\n",
        "We can actually take into consideration many things:\n",
        "* Minimum salary in Berlin \n",
        "* Taxes\n",
        "* Salary should be 3 times the kaltmiete\n",
        "etc.\n"
      ]
    },
    {
      "cell_type": "markdown",
      "metadata": {
        "id": "QSk252IA1ZLX"
      },
      "source": [
        "#define the affordable flat based on the minimum salary of a person:\n",
        " min_salary_ per_hour : 9,60 euro\n",
        " 40 hours per week :9.6 * 40 = 384\n",
        " salary_per_month = 384 * 4 = 1536\n",
        " salary_after_deduction_of_10%_tax : 1382 euro\n",
        "\n",
        " - then if we consider that the salary should be 3 times the kaltmiete, then we have : 1382/3 = 460 euro > which shows the affordable rent for the person who has the lowest income\n",
        " - so now we should look for in our dataset and see how what is the percentage of the flats with this amount of rent"
      ]
    },
    {
      "cell_type": "code",
      "metadata": {
        "colab": {
          "base_uri": "https://localhost:8080/",
          "height": 206
        },
        "id": "ikfxNsYjHWpp",
        "outputId": "5a355313-e6a7-4a3d-f245-3226ae9838bd"
      },
      "source": [
        "df['affordable'] = df.rent_per_room <= 460\n",
        "\n",
        "affordable_or_not_by_region = df.groupby([\"Region\",\"affordable\"])[['Condition']].count().reset_index()\n",
        "affordable_or_not_by_region.rename(columns={\"Condition\":\"apt_count\"}, inplace=True)\n",
        "\n",
        "affordable_or_not_by_region.head()"
      ],
      "execution_count": null,
      "outputs": [
        {
          "output_type": "execute_result",
          "data": {
            "text/html": [
              "\n",
              "  <div id=\"df-410be418-319b-40ff-bddd-32a58fa0dbc8\">\n",
              "    <div class=\"colab-df-container\">\n",
              "      <div>\n",
              "<style scoped>\n",
              "    .dataframe tbody tr th:only-of-type {\n",
              "        vertical-align: middle;\n",
              "    }\n",
              "\n",
              "    .dataframe tbody tr th {\n",
              "        vertical-align: top;\n",
              "    }\n",
              "\n",
              "    .dataframe thead th {\n",
              "        text-align: right;\n",
              "    }\n",
              "</style>\n",
              "<table border=\"1\" class=\"dataframe\">\n",
              "  <thead>\n",
              "    <tr style=\"text-align: right;\">\n",
              "      <th></th>\n",
              "      <th>Region</th>\n",
              "      <th>affordable</th>\n",
              "      <th>apt_count</th>\n",
              "    </tr>\n",
              "  </thead>\n",
              "  <tbody>\n",
              "    <tr>\n",
              "      <th>0</th>\n",
              "      <td>Charlottenburg</td>\n",
              "      <td>False</td>\n",
              "      <td>69</td>\n",
              "    </tr>\n",
              "    <tr>\n",
              "      <th>1</th>\n",
              "      <td>Charlottenburg</td>\n",
              "      <td>True</td>\n",
              "      <td>10</td>\n",
              "    </tr>\n",
              "    <tr>\n",
              "      <th>2</th>\n",
              "      <td>Friedrichsfelde</td>\n",
              "      <td>False</td>\n",
              "      <td>18</td>\n",
              "    </tr>\n",
              "    <tr>\n",
              "      <th>3</th>\n",
              "      <td>Friedrichsfelde</td>\n",
              "      <td>True</td>\n",
              "      <td>34</td>\n",
              "    </tr>\n",
              "    <tr>\n",
              "      <th>4</th>\n",
              "      <td>Kreuzberg</td>\n",
              "      <td>False</td>\n",
              "      <td>45</td>\n",
              "    </tr>\n",
              "  </tbody>\n",
              "</table>\n",
              "</div>\n",
              "      <button class=\"colab-df-convert\" onclick=\"convertToInteractive('df-410be418-319b-40ff-bddd-32a58fa0dbc8')\"\n",
              "              title=\"Convert this dataframe to an interactive table.\"\n",
              "              style=\"display:none;\">\n",
              "        \n",
              "  <svg xmlns=\"http://www.w3.org/2000/svg\" height=\"24px\"viewBox=\"0 0 24 24\"\n",
              "       width=\"24px\">\n",
              "    <path d=\"M0 0h24v24H0V0z\" fill=\"none\"/>\n",
              "    <path d=\"M18.56 5.44l.94 2.06.94-2.06 2.06-.94-2.06-.94-.94-2.06-.94 2.06-2.06.94zm-11 1L8.5 8.5l.94-2.06 2.06-.94-2.06-.94L8.5 2.5l-.94 2.06-2.06.94zm10 10l.94 2.06.94-2.06 2.06-.94-2.06-.94-.94-2.06-.94 2.06-2.06.94z\"/><path d=\"M17.41 7.96l-1.37-1.37c-.4-.4-.92-.59-1.43-.59-.52 0-1.04.2-1.43.59L10.3 9.45l-7.72 7.72c-.78.78-.78 2.05 0 2.83L4 21.41c.39.39.9.59 1.41.59.51 0 1.02-.2 1.41-.59l7.78-7.78 2.81-2.81c.8-.78.8-2.07 0-2.86zM5.41 20L4 18.59l7.72-7.72 1.47 1.35L5.41 20z\"/>\n",
              "  </svg>\n",
              "      </button>\n",
              "      \n",
              "  <style>\n",
              "    .colab-df-container {\n",
              "      display:flex;\n",
              "      flex-wrap:wrap;\n",
              "      gap: 12px;\n",
              "    }\n",
              "\n",
              "    .colab-df-convert {\n",
              "      background-color: #E8F0FE;\n",
              "      border: none;\n",
              "      border-radius: 50%;\n",
              "      cursor: pointer;\n",
              "      display: none;\n",
              "      fill: #1967D2;\n",
              "      height: 32px;\n",
              "      padding: 0 0 0 0;\n",
              "      width: 32px;\n",
              "    }\n",
              "\n",
              "    .colab-df-convert:hover {\n",
              "      background-color: #E2EBFA;\n",
              "      box-shadow: 0px 1px 2px rgba(60, 64, 67, 0.3), 0px 1px 3px 1px rgba(60, 64, 67, 0.15);\n",
              "      fill: #174EA6;\n",
              "    }\n",
              "\n",
              "    [theme=dark] .colab-df-convert {\n",
              "      background-color: #3B4455;\n",
              "      fill: #D2E3FC;\n",
              "    }\n",
              "\n",
              "    [theme=dark] .colab-df-convert:hover {\n",
              "      background-color: #434B5C;\n",
              "      box-shadow: 0px 1px 3px 1px rgba(0, 0, 0, 0.15);\n",
              "      filter: drop-shadow(0px 1px 2px rgba(0, 0, 0, 0.3));\n",
              "      fill: #FFFFFF;\n",
              "    }\n",
              "  </style>\n",
              "\n",
              "      <script>\n",
              "        const buttonEl =\n",
              "          document.querySelector('#df-410be418-319b-40ff-bddd-32a58fa0dbc8 button.colab-df-convert');\n",
              "        buttonEl.style.display =\n",
              "          google.colab.kernel.accessAllowed ? 'block' : 'none';\n",
              "\n",
              "        async function convertToInteractive(key) {\n",
              "          const element = document.querySelector('#df-410be418-319b-40ff-bddd-32a58fa0dbc8');\n",
              "          const dataTable =\n",
              "            await google.colab.kernel.invokeFunction('convertToInteractive',\n",
              "                                                     [key], {});\n",
              "          if (!dataTable) return;\n",
              "\n",
              "          const docLinkHtml = 'Like what you see? Visit the ' +\n",
              "            '<a target=\"_blank\" href=https://colab.research.google.com/notebooks/data_table.ipynb>data table notebook</a>'\n",
              "            + ' to learn more about interactive tables.';\n",
              "          element.innerHTML = '';\n",
              "          dataTable['output_type'] = 'display_data';\n",
              "          await google.colab.output.renderOutput(dataTable, element);\n",
              "          const docLink = document.createElement('div');\n",
              "          docLink.innerHTML = docLinkHtml;\n",
              "          element.appendChild(docLink);\n",
              "        }\n",
              "      </script>\n",
              "    </div>\n",
              "  </div>\n",
              "  "
            ],
            "text/plain": [
              "            Region  affordable  apt_count\n",
              "0   Charlottenburg       False         69\n",
              "1   Charlottenburg        True         10\n",
              "2  Friedrichsfelde       False         18\n",
              "3  Friedrichsfelde        True         34\n",
              "4        Kreuzberg       False         45"
            ]
          },
          "metadata": {},
          "execution_count": 3
        }
      ]
    },
    {
      "cell_type": "code",
      "metadata": {
        "colab": {
          "base_uri": "https://localhost:8080/",
          "height": 362
        },
        "id": "8b0LvahMFg57",
        "outputId": "5b5a30a6-a82c-4e40-cebd-92fbe453962c"
      },
      "source": [
        "ax = sns.barplot(data=affordable_or_not_by_region, x='Region', y='apt_count',\n",
        "                 hue='affordable', palette=[\"tomato\",\"#00FF00\"])\n",
        "plt.xticks(rotation=90)\n",
        "\n",
        "# hide x axis label\n",
        "plt.xlabel(\"\")\n",
        "plt.ylabel(\"\")\n",
        "\n",
        "#set title\n",
        "plt.title(\"Number of apartments\\nper neighborhood and affordability status\")\n",
        "\n",
        "# hide frame\n",
        "for position in ax.spines.keys():\n",
        "  ax.spines[position].set_visible(False)\n",
        "\n",
        "plt.show()"
      ],
      "execution_count": null,
      "outputs": [
        {
          "output_type": "display_data",
          "data": {
            "image/png": "[encoded data removed]",
            "text/plain": [
              "<Figure size 432x288 with 1 Axes>"
            ]
          },
          "metadata": {
            "needs_background": "light"
          }
        }
      ]
    },
    {
      "cell_type": "code",
      "metadata": {
        "colab": {
          "base_uri": "https://localhost:8080/",
          "height": 237
        },
        "id": "wgZoipbvHcoK",
        "outputId": "3452bf4d-7b1f-42fa-a40d-041f29385e01"
      },
      "source": [
        "\n",
        "aff = affordable_or_not_by_region.query(\"affordable == True\").copy()\n",
        "aff.rename(columns={\"apt_count\":\"aff_apt_count\"}, inplace = True)\n",
        "del aff['affordable']\n",
        "\n",
        "not_aff = affordable_or_not_by_region.query(\"affordable == False\").copy()\n",
        "not_aff.rename(columns={\"apt_count\":\"not_aff_apt_count\"}, inplace = True)\n",
        "del not_aff['affordable']\n",
        "\n",
        "affordable_or_not_by_region_wide = pd.merge(aff,not_aff, on=\"Region\", how = 'left')\n",
        "affordable_or_not_by_region_wide['perc_aff'] = affordable_or_not_by_region_wide.aff_apt_count/affordable_or_not_by_region_wide.sum(axis=1)\n",
        "affordable_or_not_by_region_wide.set_index(\"Region\", inplace= True)\n",
        "\n",
        "affordable_or_not_by_region_wide.head()"
      ],
      "execution_count": null,
      "outputs": [
        {
          "output_type": "execute_result",
          "data": {
            "text/html": [
              "\n",
              "  <div id=\"df-36d05542-d9d9-42cf-b5d0-cd5ddd123e01\">\n",
              "    <div class=\"colab-df-container\">\n",
              "      <div>\n",
              "<style scoped>\n",
              "    .dataframe tbody tr th:only-of-type {\n",
              "        vertical-align: middle;\n",
              "    }\n",
              "\n",
              "    .dataframe tbody tr th {\n",
              "        vertical-align: top;\n",
              "    }\n",
              "\n",
              "    .dataframe thead th {\n",
              "        text-align: right;\n",
              "    }\n",
              "</style>\n",
              "<table border=\"1\" class=\"dataframe\">\n",
              "  <thead>\n",
              "    <tr style=\"text-align: right;\">\n",
              "      <th></th>\n",
              "      <th>aff_apt_count</th>\n",
              "      <th>not_aff_apt_count</th>\n",
              "      <th>perc_aff</th>\n",
              "    </tr>\n",
              "    <tr>\n",
              "      <th>Region</th>\n",
              "      <th></th>\n",
              "      <th></th>\n",
              "      <th></th>\n",
              "    </tr>\n",
              "  </thead>\n",
              "  <tbody>\n",
              "    <tr>\n",
              "      <th>Charlottenburg</th>\n",
              "      <td>10</td>\n",
              "      <td>69</td>\n",
              "      <td>0.126582</td>\n",
              "    </tr>\n",
              "    <tr>\n",
              "      <th>Friedrichsfelde</th>\n",
              "      <td>34</td>\n",
              "      <td>18</td>\n",
              "      <td>0.653846</td>\n",
              "    </tr>\n",
              "    <tr>\n",
              "      <th>Kreuzberg</th>\n",
              "      <td>2</td>\n",
              "      <td>45</td>\n",
              "      <td>0.042553</td>\n",
              "    </tr>\n",
              "    <tr>\n",
              "      <th>Köpenick</th>\n",
              "      <td>21</td>\n",
              "      <td>34</td>\n",
              "      <td>0.381818</td>\n",
              "    </tr>\n",
              "    <tr>\n",
              "      <th>Mitte</th>\n",
              "      <td>2</td>\n",
              "      <td>151</td>\n",
              "      <td>0.013072</td>\n",
              "    </tr>\n",
              "  </tbody>\n",
              "</table>\n",
              "</div>\n",
              "      <button class=\"colab-df-convert\" onclick=\"convertToInteractive('df-36d05542-d9d9-42cf-b5d0-cd5ddd123e01')\"\n",
              "              title=\"Convert this dataframe to an interactive table.\"\n",
              "              style=\"display:none;\">\n",
              "        \n",
              "  <svg xmlns=\"http://www.w3.org/2000/svg\" height=\"24px\"viewBox=\"0 0 24 24\"\n",
              "       width=\"24px\">\n",
              "    <path d=\"M0 0h24v24H0V0z\" fill=\"none\"/>\n",
              "    <path d=\"M18.56 5.44l.94 2.06.94-2.06 2.06-.94-2.06-.94-.94-2.06-.94 2.06-2.06.94zm-11 1L8.5 8.5l.94-2.06 2.06-.94-2.06-.94L8.5 2.5l-.94 2.06-2.06.94zm10 10l.94 2.06.94-2.06 2.06-.94-2.06-.94-.94-2.06-.94 2.06-2.06.94z\"/><path d=\"M17.41 7.96l-1.37-1.37c-.4-.4-.92-.59-1.43-.59-.52 0-1.04.2-1.43.59L10.3 9.45l-7.72 7.72c-.78.78-.78 2.05 0 2.83L4 21.41c.39.39.9.59 1.41.59.51 0 1.02-.2 1.41-.59l7.78-7.78 2.81-2.81c.8-.78.8-2.07 0-2.86zM5.41 20L4 18.59l7.72-7.72 1.47 1.35L5.41 20z\"/>\n",
              "  </svg>\n",
              "      </button>\n",
              "      \n",
              "  <style>\n",
              "    .colab-df-container {\n",
              "      display:flex;\n",
              "      flex-wrap:wrap;\n",
              "      gap: 12px;\n",
              "    }\n",
              "\n",
              "    .colab-df-convert {\n",
              "      background-color: #E8F0FE;\n",
              "      border: none;\n",
              "      border-radius: 50%;\n",
              "      cursor: pointer;\n",
              "      display: none;\n",
              "      fill: #1967D2;\n",
              "      height: 32px;\n",
              "      padding: 0 0 0 0;\n",
              "      width: 32px;\n",
              "    }\n",
              "\n",
              "    .colab-df-convert:hover {\n",
              "      background-color: #E2EBFA;\n",
              "      box-shadow: 0px 1px 2px rgba(60, 64, 67, 0.3), 0px 1px 3px 1px rgba(60, 64, 67, 0.15);\n",
              "      fill: #174EA6;\n",
              "    }\n",
              "\n",
              "    [theme=dark] .colab-df-convert {\n",
              "      background-color: #3B4455;\n",
              "      fill: #D2E3FC;\n",
              "    }\n",
              "\n",
              "    [theme=dark] .colab-df-convert:hover {\n",
              "      background-color: #434B5C;\n",
              "      box-shadow: 0px 1px 3px 1px rgba(0, 0, 0, 0.15);\n",
              "      filter: drop-shadow(0px 1px 2px rgba(0, 0, 0, 0.3));\n",
              "      fill: #FFFFFF;\n",
              "    }\n",
              "  </style>\n",
              "\n",
              "      <script>\n",
              "        const buttonEl =\n",
              "          document.querySelector('#df-36d05542-d9d9-42cf-b5d0-cd5ddd123e01 button.colab-df-convert');\n",
              "        buttonEl.style.display =\n",
              "          google.colab.kernel.accessAllowed ? 'block' : 'none';\n",
              "\n",
              "        async function convertToInteractive(key) {\n",
              "          const element = document.querySelector('#df-36d05542-d9d9-42cf-b5d0-cd5ddd123e01');\n",
              "          const dataTable =\n",
              "            await google.colab.kernel.invokeFunction('convertToInteractive',\n",
              "                                                     [key], {});\n",
              "          if (!dataTable) return;\n",
              "\n",
              "          const docLinkHtml = 'Like what you see? Visit the ' +\n",
              "            '<a target=\"_blank\" href=https://colab.research.google.com/notebooks/data_table.ipynb>data table notebook</a>'\n",
              "            + ' to learn more about interactive tables.';\n",
              "          element.innerHTML = '';\n",
              "          dataTable['output_type'] = 'display_data';\n",
              "          await google.colab.output.renderOutput(dataTable, element);\n",
              "          const docLink = document.createElement('div');\n",
              "          docLink.innerHTML = docLinkHtml;\n",
              "          element.appendChild(docLink);\n",
              "        }\n",
              "      </script>\n",
              "    </div>\n",
              "  </div>\n",
              "  "
            ],
            "text/plain": [
              "                 aff_apt_count  not_aff_apt_count  perc_aff\n",
              "Region                                                     \n",
              "Charlottenburg              10                 69  0.126582\n",
              "Friedrichsfelde             34                 18  0.653846\n",
              "Kreuzberg                    2                 45  0.042553\n",
              "Köpenick                    21                 34  0.381818\n",
              "Mitte                        2                151  0.013072"
            ]
          },
          "metadata": {},
          "execution_count": 5
        }
      ]
    },
    {
      "cell_type": "code",
      "metadata": {
        "colab": {
          "base_uri": "https://localhost:8080/",
          "height": 362
        },
        "id": "IeJC0_3VPxKJ",
        "outputId": "d69b1886-e06f-4884-a527-d01a6eb96d0c"
      },
      "source": [
        "ax = affordable_or_not_by_region_wide['perc_aff'].plot.bar()\n",
        "\n",
        "y_ticks = ax.get_yticks()\n",
        "formatted_y_ticks = ['{:,.0%}'.format(x) for x in y_ticks]\n",
        "ax.set_yticklabels(formatted_y_ticks)\n",
        "\n",
        "plt.xticks(rotation=90)\n",
        "\n",
        "# hide x axis label\n",
        "plt.xlabel(\"\")\n",
        "plt.ylabel(\"\")\n",
        "\n",
        "#set title\n",
        "plt.title(\"% of affordable apartments per \\nneighborhood in Berlin\")\n",
        "\n",
        "# hide frame\n",
        "for position in ax.spines.keys():\n",
        "  ax.spines[position].set_visible(False)\n",
        "\n",
        "plt.show()"
      ],
      "execution_count": null,
      "outputs": [
        {
          "output_type": "display_data",
          "data": {
            "image/png": "[encoded data removed]",
            "text/plain": [
              "<Figure size 432x288 with 1 Axes>"
            ]
          },
          "metadata": {
            "needs_background": "light"
          }
        }
      ]
    },
    {
      "cell_type": "markdown",
      "metadata": {
        "id": "MQaom-pbOP25"
      },
      "source": [
        "# Would renovating apartments make a difference?"
      ]
    },
    {
      "cell_type": "code",
      "metadata": {
        "colab": {
          "base_uri": "https://localhost:8080/",
          "height": 462
        },
        "id": "dqgZ03PZOTJ5",
        "outputId": "6b71ef93-5842-48e8-9ae3-ae6c695eaf51"
      },
      "source": [
        "renov_status = df.groupby(\"Condition\")['Region'].count()\n",
        "\n",
        "renov_status.plot.bar(color=\"blue\")"
      ],
      "execution_count": null,
      "outputs": [
        {
          "output_type": "execute_result",
          "data": {
            "text/plain": [
              "<matplotlib.axes._subplots.AxesSubplot at 0x7f51131f8690>"
            ]
          },
          "metadata": {},
          "execution_count": 7
        },
        {
          "output_type": "display_data",
          "data": {
            "image/png": "[encoded data removed]",
            "text/plain": [
              "<Figure size 432x288 with 1 Axes>"
            ]
          },
          "metadata": {
            "needs_background": "light"
          }
        }
      ]
    },
    {
      "cell_type": "markdown",
      "metadata": {
        "id": "eP5YQnJjP5p-"
      },
      "source": [
        "##And now a basic example with Matplotlib"
      ]
    },
    {
      "cell_type": "code",
      "metadata": {
        "colab": {
          "base_uri": "https://localhost:8080/",
          "height": 445
        },
        "id": "JRZcEFb6PUpo",
        "outputId": "d414fe67-5fb4-4c00-fc3f-77ab92bbe2b7"
      },
      "source": [
        "# STEP 1: IMPORT THE PACKAGE\n",
        "import matplotlib.pyplot as plt \n",
        "\n",
        "# STEP 2: CREATE A FIGURE WITH AXES\n",
        "fig, ax = plt.subplots() \n",
        "# THE FIGURE IS LIKE AN IMAGE. YOU CAN THEN SAVE IT AS A PNG IMAGE FOR EG.\n",
        "# THE AXES ARE THE PLOTS YOU WANT TO DRAW ON THE FIGURE. HERE WE CREATE ONLY 1.\n",
        "# BECAUSE IT'S ONLY 1, WE CALL IT AX, AND NOT AXES\n",
        "\n",
        "# In the examples before, i created plots either with seaborn or with\n",
        "# the .plot() method of pandas, and i didn't have to create the axes before \n",
        "# providing the data.\n",
        "\n",
        "\n",
        "\n",
        "# STEP 3: FILL THE AX WITH DATA\n",
        "\n",
        "# Plot the count for every status\n",
        "ax.bar(x=renov_status.index, height=renov_status, color=\"lightgrey\")\n",
        "\n",
        "# FUN TIP: \n",
        "# Plot the bar for apartments in need of renovation on top of the previous plot in red\n",
        "# My audience cannot both listen to me and read a complex plot. Make my point\n",
        "# completely obvious:\n",
        "renov_status_need_renov = renov_status.loc[['need_of_renovation']]\n",
        "ax.bar(x=renov_status_need_renov.index,height=renov_status_need_renov, color='red')\n",
        "\n",
        "\n",
        "# STEP 4: MAKE MY PLOT EASY TO READ AND UNDERSTAND\n",
        "\n",
        "# Set a title\n",
        "plt.title(\"Count of apartments by renovation status\")\n",
        "\n",
        "# Less is more\n",
        "# hide x and y axes labels because the title and the renovation statusses are explicit enough\n",
        "plt.xlabel(\"\")\n",
        "plt.ylabel(\"\")\n",
        "\n",
        "# hide frame for a cleaner appearance\n",
        "for position in ax.spines.keys():\n",
        "  ax.spines[position].set_visible(False)\n",
        "\n",
        "# rotate the x tick labels\n",
        "plt.xticks(rotation=90)\n",
        "\n",
        "plt.show()"
      ],
      "execution_count": null,
      "outputs": [
        {
          "output_type": "display_data",
          "data": {
            "image/png": "[encoded data removed]",
            "text/plain": [
              "<Figure size 432x288 with 1 Axes>"
            ]
          },
          "metadata": {
            "needs_background": "light"
          }
        }
      ]
    },
    {
      "cell_type": "markdown",
      "metadata": {
        "id": "FQdVpWu1_Qov"
      },
      "source": [
        "# Now a figure with multiple plots in Matplotlib"
      ]
    },
    {
      "cell_type": "code",
      "metadata": {
        "colab": {
          "base_uri": "https://localhost:8080/",
          "height": 293
        },
        "id": "azNMWxfdOYNc",
        "outputId": "74beef6f-ab20-4a47-dfa6-2ddc4f4b508b"
      },
      "source": [
        "# STEP 2: CREATE A FIGURE WITH AXES\n",
        "fig, axes = plt.subplots(nrows=2,ncols=2) \n",
        "# This time we want 4 plots on our figure, so we'll have 4 axes\n",
        "\n",
        "\n",
        "# STEP 3: FILL THE AXES WITH DATA\n",
        "\n",
        "# Let's plot the mean of each numerical variable for each region\n",
        "\n",
        "all_the_means = df.groupby(\"Region\").mean()\n",
        "\n",
        "# Plot avg number of rooms by region\n",
        "axes[0,0].bar(x=all_the_means.index, height=all_the_means['Rooms'])\n",
        "# We have 2 rows and 2 columns, so we index the row and the columns with [0,0]\n",
        "\n",
        "# Plot avg rent by region\n",
        "axes[0,1].bar(x=all_the_means.index, height=all_the_means['Rent'])\n",
        "\n",
        "# Plot avg year of construction by region\n",
        "axes[1,0].bar(x=all_the_means.index, height=all_the_means['Year_Construction'])\n",
        "\n",
        "# Plot avg space by region\n",
        "axes[1,1].bar(x=all_the_means.index, height=all_the_means['Space'])\n",
        "\n",
        "\n",
        "# STEP 4: MAKE MY PLOT EASY TO READ AND UNDERSTAND\n",
        "\n",
        "# Set a title for the whole figure\n",
        "fig.suptitle(\"Average values by region for several metrics\")\n",
        "\n",
        "# Now it becomes tricky, cause we can't use the plt functions for before, they\n",
        "# would be applied only to the last plot (2nd row, 2nd column). We need to go plot by plot:\n",
        "\n",
        "# add titles\n",
        "axes[0,0].title.set_text('Room')\n",
        "axes[0,1].title.set_text('Rent')\n",
        "axes[1,0].title.set_text('Year of Construction')\n",
        "axes[1,1].title.set_text('Space')\n",
        "\n",
        "# hide the x labels of the 1st row of plots\n",
        "axes[0,0].xaxis.set_visible(False)\n",
        "axes[0,1].xaxis.set_visible(False)\n",
        "\n",
        "# rotate the x labels of the 2nd row of plots\n",
        "axes[1,0].tick_params(labelrotation=90)\n",
        "axes[1,1].tick_params(labelrotation=90)\n",
        "\n",
        "# this one is here to add space between plots\n",
        "fig.tight_layout(pad=2)\n",
        "\n",
        "plt.show()"
      ],
      "execution_count": null,
      "outputs": [
        {
          "output_type": "display_data",
          "data": {
            "image/png": "[encoded data removed]",
            "text/plain": [
              "<Figure size 432x288 with 4 Axes>"
            ]
          },
          "metadata": {
            "needs_background": "light"
          }
        }
      ]
    },
    {
      "cell_type": "markdown",
      "metadata": {
        "id": "yDTIlLkzLBdC"
      },
      "source": [
        "And now the same plot with more efficient code using a for loop:"
      ]
    },
    {
      "cell_type": "code",
      "metadata": {
        "colab": {
          "base_uri": "https://localhost:8080/",
          "height": 293
        },
        "id": "nfFznvIoQuc-",
        "outputId": "8c084fc1-b8c5-4c16-fba9-cfae4430d9c7"
      },
      "source": [
        "# STEP 2: CREATE A FIGURE WITH AXES\n",
        "fig, axes = plt.subplots(nrows=2,ncols=2) \n",
        "\n",
        "# STEP 3: FILL THE AXES WITH DATA\n",
        "\n",
        "# Let's plot the mean of each numerical variable for each region\n",
        "\n",
        "all_the_means = df.groupby(\"Region\").mean()\n",
        "\n",
        "metric_position = {\"Rooms\":(0,0),\n",
        "                   \"Rent\":(0,1),\n",
        "                   \"Year_Construction\":(1,0),\n",
        "                   \"Space\":(1,1)}\n",
        "\n",
        "for metric in metric_position.keys():\n",
        "\n",
        "  i, j = metric_position[metric]\n",
        "\n",
        "  # Plot avg number of the metric by region\n",
        "  axes[i,j].bar(x=all_the_means.index, height=all_the_means[metric])\n",
        "\n",
        "  # add titles\n",
        "  axes[i,j].title.set_text(metric)\n",
        "\n",
        "  # hide the x labels of the 1st row of plots\n",
        "  if i == 0:\n",
        "    axes[i,j].xaxis.set_visible(False)\n",
        "\n",
        "  # rotate the x labels\n",
        "  axes[i,j].tick_params(labelrotation=90)\n",
        "\n",
        "\n",
        "# STEP 4: MAKE YOUR PLOT EASY TO READ AND UNDERSTAND\n",
        "\n",
        "# Set a title for the whole figure\n",
        "fig.suptitle(\"Average values by region for several metrics\")\n",
        "\n",
        "# this one is here to add space between plots\n",
        "fig.tight_layout(pad=2)\n",
        "\n",
        "plt.show()"
      ],
      "execution_count": null,
      "outputs": [
        {
          "output_type": "display_data",
          "data": {
            "image/png": "[encoded data removed]",
            "text/plain": [
              "<Figure size 432x288 with 4 Axes>"
            ]
          },
          "metadata": {
            "needs_background": "light"
          }
        }
      ]
    },
    {
      "cell_type": "code",
      "metadata": {
        "colab": {
          "base_uri": "https://localhost:8080/",
          "height": 248
        },
        "id": "Xp727IeBlMHA",
        "outputId": "107d9f54-a791-4875-e671-4c611829f542"
      },
      "source": [
        "# Pie chart:\n",
        "labels = renov_status.index\n",
        "sizes = renov_status\n",
        "explode = (0, 0, 0, 0, 0, 0.6, 0, 0, 0)  # only \"explode\" the 6th slice (i.e. 'need_of_renovation')\n",
        "\n",
        "fig, ax = plt.subplots()\n",
        "ax.pie(sizes, explode=explode, labels=labels, autopct='%1.1f%%',\n",
        "        shadow=True, startangle=90)\n",
        "ax.axis('equal')  # Equal aspect ratio ensures that pie is drawn as a circle.\n",
        "\n",
        "plt.show()"
      ],
      "execution_count": null,
      "outputs": [
        {
          "output_type": "display_data",
          "data": {
            "image/png": "[encoded data removed]",
            "text/plain": [
              "<Figure size 432x288 with 1 Axes>"
            ]
          },
          "metadata": {}
        }
      ]
    }
  ]
}